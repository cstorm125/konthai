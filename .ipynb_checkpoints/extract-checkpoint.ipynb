{
 "cells": [
  {
   "cell_type": "code",
   "execution_count": 2,
   "metadata": {
    "collapsed": false
   },
   "outputs": [],
   "source": [
    "from bs4 import BeautifulSoup\n",
    "from selenium import webdriver\n",
    "from selenium.webdriver.common.by import By\n",
    "from selenium.webdriver.support.ui import WebDriverWait\n",
    "from selenium.webdriver.support import expected_conditions as EC\n",
    "\n",
    "import pandas as pd\n",
    "import numpy as np\n",
    "\n",
    "# This line tells the notebook to show plots inside of the notebook\n",
    "%matplotlib inline\n",
    "\n",
    "import matplotlib.pyplot as plt\n",
    "import seaborn as sb\n",
    "import seaborn.apionly as sns"
   ]
  },
  {
   "cell_type": "code",
   "execution_count": 2,
   "metadata": {
    "collapsed": false
   },
   "outputs": [],
   "source": [
    "#Get counties\n",
    "dp05 = pd.read_csv('files/ACS_14_5YR_DP05/ACS_14_5YR_DP05_with_ann.csv',skiprows=1)\n",
    "counties = dp05.Geography\n",
    "counties=counties.apply(lambda x: x.replace(',','').replace(' ','+'))"
   ]
  },
  {
   "cell_type": "code",
   "execution_count": null,
   "metadata": {
    "collapsed": true
   },
   "outputs": [],
   "source": [
    "#Scrape the site\n",
    "url_search = 'https://livabilityindex.aarp.org/search#'\n",
    "result=[]\n",
    "\n",
    "for i in range(0,len(counties)):\n",
    "    try:\n",
    "        url = url_search + counties[i]\n",
    "        driver = webdriver.Chrome()\n",
    "        driver.implicitly_wait(1)\n",
    "        driver.get(url)\n",
    "        soup = BeautifulSoup(driver.page_source)\n",
    "    finally:\n",
    "        driver.quit()\n",
    "\n",
    "    #Glean the variables\n",
    "    housing = soup.find('div',class_='icon-housing livability-score-detail').get_text()\n",
    "    neighborhood = soup.find('div',class_='icon-neighborhood livability-score-detail').get_text()\n",
    "    transportation = soup.find('div',class_='icon-transportation livability-score-detail').get_text()\n",
    "    environment = soup.find('div',class_='icon-environment livability-score-detail').get_text()\n",
    "    health = soup.find('div',class_='icon-health livability-score-detail').get_text()\n",
    "    engagement = soup.find('div',class_='icon-engagement livability-score-detail').get_text()\n",
    "    opportunity = soup.find('div',class_='icon-opportunity livability-score-detail').get_text()\n",
    "    \n",
    "    #Create data frame\n",
    "    temp = {'country':counties[i],'housing':housing,'neighborhood':neighborhood,'transporation':transportation,'environment':environment,\n",
    "           'health':health,'engagement':engagement,'opportunity':opportunity}\n",
    "    temp_df = pd.DataFrame(temp,index=[counties[i]])\n",
    "    \n",
    "    #append\n",
    "    result.append(temp_df)\n"
   ]
  },
  {
   "cell_type": "code",
   "execution_count": null,
   "metadata": {
    "collapsed": true
   },
   "outputs": [],
   "source": [
    "#concatenate and save results    \n",
    "result = pd.concat(result,axis=0)\n",
    "result.to_csv('files/livability.csv')"
   ]
  },
  {
   "cell_type": "code",
   "execution_count": 3,
   "metadata": {
    "collapsed": false
   },
   "outputs": [
    {
     "data": {
      "text/html": [
       "<div>\n",
       "<table border=\"1\" class=\"dataframe\">\n",
       "  <thead>\n",
       "    <tr style=\"text-align: right;\">\n",
       "      <th></th>\n",
       "      <th>engagement</th>\n",
       "      <th>environment</th>\n",
       "      <th>health</th>\n",
       "      <th>housing</th>\n",
       "      <th>neighborhood</th>\n",
       "      <th>opportunity</th>\n",
       "      <th>transportation</th>\n",
       "    </tr>\n",
       "  </thead>\n",
       "  <tbody>\n",
       "    <tr>\n",
       "      <th>Autauga+County+Alabama</th>\n",
       "      <td>64.0</td>\n",
       "      <td>57.0</td>\n",
       "      <td>34.0</td>\n",
       "      <td>58.0</td>\n",
       "      <td>37.0</td>\n",
       "      <td>41.0</td>\n",
       "      <td>34.0</td>\n",
       "    </tr>\n",
       "    <tr>\n",
       "      <th>Baldwin+County+Alabama</th>\n",
       "      <td>64.0</td>\n",
       "      <td>60.0</td>\n",
       "      <td>48.0</td>\n",
       "      <td>54.0</td>\n",
       "      <td>36.0</td>\n",
       "      <td>40.0</td>\n",
       "      <td>44.0</td>\n",
       "    </tr>\n",
       "    <tr>\n",
       "      <th>Barbour+County+Alabama</th>\n",
       "      <td>52.0</td>\n",
       "      <td>24.0</td>\n",
       "      <td>15.0</td>\n",
       "      <td>66.0</td>\n",
       "      <td>32.0</td>\n",
       "      <td>34.0</td>\n",
       "      <td>47.0</td>\n",
       "    </tr>\n",
       "    <tr>\n",
       "      <th>Bibb+County+Alabama</th>\n",
       "      <td>34.0</td>\n",
       "      <td>57.0</td>\n",
       "      <td>17.0</td>\n",
       "      <td>43.0</td>\n",
       "      <td>31.0</td>\n",
       "      <td>53.0</td>\n",
       "      <td>34.0</td>\n",
       "    </tr>\n",
       "    <tr>\n",
       "      <th>Blount+County+Alabama</th>\n",
       "      <td>42.0</td>\n",
       "      <td>59.0</td>\n",
       "      <td>29.0</td>\n",
       "      <td>44.0</td>\n",
       "      <td>37.0</td>\n",
       "      <td>65.0</td>\n",
       "      <td>34.0</td>\n",
       "    </tr>\n",
       "  </tbody>\n",
       "</table>\n",
       "</div>"
      ],
      "text/plain": [
       "                        engagement  environment  health  housing  \\\n",
       "Autauga+County+Alabama        64.0         57.0    34.0     58.0   \n",
       "Baldwin+County+Alabama        64.0         60.0    48.0     54.0   \n",
       "Barbour+County+Alabama        52.0         24.0    15.0     66.0   \n",
       "Bibb+County+Alabama           34.0         57.0    17.0     43.0   \n",
       "Blount+County+Alabama         42.0         59.0    29.0     44.0   \n",
       "\n",
       "                        neighborhood  opportunity  transportation  \n",
       "Autauga+County+Alabama          37.0         41.0            34.0  \n",
       "Baldwin+County+Alabama          36.0         40.0            44.0  \n",
       "Barbour+County+Alabama          32.0         34.0            47.0  \n",
       "Bibb+County+Alabama             31.0         53.0            34.0  \n",
       "Blount+County+Alabama           37.0         65.0            34.0  "
      ]
     },
     "execution_count": 3,
     "metadata": {},
     "output_type": "execute_result"
    }
   ],
   "source": [
    "#Control variables\n",
    "#exclude county names\n",
    "controls = pd.read_csv('files/livability.csv').iloc[:,1:]\n",
    "controls.head()"
   ]
  }
 ],
 "metadata": {
  "anaconda-cloud": {},
  "kernelspec": {
   "display_name": "Python [Root]",
   "language": "python",
   "name": "Python [Root]"
  },
  "language_info": {
   "codemirror_mode": {
    "name": "ipython",
    "version": 2
   },
   "file_extension": ".py",
   "mimetype": "text/x-python",
   "name": "python",
   "nbconvert_exporter": "python",
   "pygments_lexer": "ipython2",
   "version": "2.7.12"
  }
 },
 "nbformat": 4,
 "nbformat_minor": 0
}
